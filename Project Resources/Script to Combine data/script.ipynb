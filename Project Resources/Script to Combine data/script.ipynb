{
 "cells": [
  {
   "cell_type": "code",
   "execution_count": 6,
   "outputs": [],
   "source": [
    "import pandas as pd"
   ],
   "metadata": {
    "collapsed": false,
    "pycharm": {
     "name": "#%%\n"
    }
   }
  },
  {
   "cell_type": "code",
   "execution_count": 134,
   "outputs": [],
   "source": [
    "df = pd.read_csv('../API Extracting Scripts/Script 2 - Shenal/data/data.csv',delimiter=',')\n",
    "titles = list(df['title'])\n",
    "rows = list(df.index)\n",
    "titleNrows = list(zip(titles,rows))"
   ],
   "metadata": {
    "collapsed": false,
    "pycharm": {
     "name": "#%%\n"
    }
   }
  },
  {
   "cell_type": "code",
   "execution_count": 135,
   "outputs": [],
   "source": [
    "directory = '../Scraping Script/data/'"
   ],
   "metadata": {
    "collapsed": false,
    "pycharm": {
     "name": "#%%\n"
    }
   }
  },
  {
   "cell_type": "code",
   "execution_count": 136,
   "outputs": [],
   "source": [
    "scraping_data = pd.Series([],dtype='object')\n",
    "\n",
    "for titleNrow in titleNrows:\n",
    "    try:\n",
    "        with open(directory + titleNrow[0] + \".txt\",'r',encoding='utf8') as textFile:\n",
    "            scraping_data[titleNrow[1]] = ' '.join(textFile.readlines())\n",
    "    except FileNotFoundError:\n",
    "        scraping_data[titleNrow[1]] = \"No project page\"\n",
    "\n",
    "# Remake the df\n",
    "df.insert(1,\"Scraped Data\",scraping_data)"
   ],
   "metadata": {
    "collapsed": false,
    "pycharm": {
     "name": "#%%\n"
    }
   }
  },
  {
   "cell_type": "code",
   "execution_count": 137,
   "outputs": [
    {
     "data": {
      "text/plain": "                                                 title  \\\n0    A GUI for controlling and supervising multiple...   \n1             An Efficient System For Waste Collection   \n2    An automated system for monitoring and control...   \n3                        Automated Bike Sharing System   \n4    Automated Book Management System Automated Boo...   \n..                                                 ...   \n142                          RV32IM NoC implementation   \n143              RV32IM pipeline implementation group1   \n144              RV32IM pipeline implementation group3   \n145  balancing an inverted pendulum using a neural ...   \n146                      business to business database   \n\n                                          Scraped Data  \\\n0    A GUI for control & supervising multiple robot...   \n1    An Efficient System For Waste Collection\\n Pro...   \n2    An automated system for monitoring and control...   \n3    Automated Bike Sharing System\\n Projects - Dep...   \n4    Automated Book Management System - Automated B...   \n..                                                 ...   \n142  Home - RV32IM Network on Chip Design and Imple...   \n143  Home - RV32IM Pipeline Implementation\\n Home |...   \n144  RISC-V 32 bit CPU\\n RISC-V 32 bit CPU\\n Home\\n...   \n145                                    No project page   \n146                                    No project page   \n\n                                           description batch  \\\n0    The idea is to create a GUI platform where a u...   E15   \n1    This Project aims to implement an Efficient Wa...   E15   \n2    This is a system for automatically controlling...   E15   \n3    This project is about building an automated bi...   E15   \n4    In libraries, We have planned to implement a b...   E15   \n..                                                 ...   ...   \n142                                                NaN   E16   \n143  The objective of this project was to design an...   E16   \n144  CPU and memory system including cache memory i...   E16   \n145                                      CO542 Project   E14   \n146  CO226 Project - Relational Database for B2B On...   E17   \n\n                                   category  \\\n0           Cyber-Physical Systems Projects   \n1           Cyber-Physical Systems Projects   \n2           Cyber-Physical Systems Projects   \n3           Cyber-Physical Systems Projects   \n4           Cyber-Physical Systems Projects   \n..                                      ...   \n142  Advanced Computer Architecture (CO502)   \n143  Advanced Computer Architecture (CO502)   \n144  Advanced Computer Architecture (CO502)   \n145        Neural Networks Projects (CO542)   \n146               Database Projects (CO226)   \n\n                                           project_url  \\\n0    https://projects.ce.pdn.ac.lk/3yp/e15/A-GUI-fo...   \n1    https://projects.ce.pdn.ac.lk/3yp/e15/An-Effic...   \n2    https://projects.ce.pdn.ac.lk/3yp/e15/An-autom...   \n3    https://projects.ce.pdn.ac.lk/3yp/e15/Automate...   \n4    https://projects.ce.pdn.ac.lk/3yp/e15/Automate...   \n..                                                 ...   \n142  https://projects.ce.pdn.ac.lk/co502/e16/RV32IM...   \n143  https://projects.ce.pdn.ac.lk/co502/e16/RV32IM...   \n144  https://projects.ce.pdn.ac.lk/co502/e16/RV32IM...   \n145  https://projects.ce.pdn.ac.lk/co542/e14/balanc...   \n146  https://projects.ce.pdn.ac.lk/co226/e17/busine...   \n\n                                              repo_url  \\\n0    https://github.com/cepdnaclk/e15-3yp-A-GUI-for...   \n1    https://github.com/cepdnaclk/e15-3yp-An-Effici...   \n2    https://github.com/cepdnaclk/e15-3yp-An-automa...   \n3    https://github.com/cepdnaclk/e15-3yp-Automated...   \n4    https://github.com/cepdnaclk/e15-3yp-Automated...   \n..                                                 ...   \n142  https://github.com/cepdnaclk/e16-co502-RV32IM-...   \n143  https://github.com/cepdnaclk/e16-co502-RV32IM-...   \n144  https://github.com/cepdnaclk/e16-co502-RV32IM-...   \n145  https://github.com/cepdnaclk/e14-co542-balanci...   \n146  https://github.com/cepdnaclk/e17-co226-busines...   \n\n                                              page_url  \\\n0    https://cepdnaclk.github.io/e15-3yp-A-GUI-for-...   \n1    https://cepdnaclk.github.io/e15-3yp-An-Efficie...   \n2    https://cepdnaclk.github.io/e15-3yp-An-automat...   \n3    https://cepdnaclk.github.io/e15-3yp-Automated-...   \n4    https://cepdnaclk.github.io/e15-3yp-Automated-...   \n..                                                 ...   \n142  https://cepdnaclk.github.io/e16-co502-RV32IM-N...   \n143  https://cepdnaclk.github.io/e16-co502-RV32IM-p...   \n144  https://cepdnaclk.github.io/e16-co502-RV32IM-p...   \n145                                                  #   \n146                                                  #   \n\n                                              data_url  \\\n0    https://cepdnaclk.github.io/e15-3yp-A-GUI-for-...   \n1    https://cepdnaclk.github.io/e15-3yp-An-Efficie...   \n2    https://cepdnaclk.github.io/e15-3yp-An-automat...   \n3    https://cepdnaclk.github.io/e15-3yp-Automated-...   \n4    https://cepdnaclk.github.io/e15-3yp-Automated-...   \n..                                                 ...   \n142  https://cepdnaclk.github.io/e16-co502-RV32IM-N...   \n143  https://cepdnaclk.github.io/e16-co502-RV32IM-p...   \n144  https://cepdnaclk.github.io/e16-co502-RV32IM-p...   \n145                                                  #   \n146                                                  #   \n\n                                               api_url  \n0    http://api.ce.pdn.ac.lk/projects/v1/3yp/E15/A-...  \n1    http://api.ce.pdn.ac.lk/projects/v1/3yp/E15/An...  \n2    http://api.ce.pdn.ac.lk/projects/v1/3yp/E15/An...  \n3    http://api.ce.pdn.ac.lk/projects/v1/3yp/E15/Au...  \n4    http://api.ce.pdn.ac.lk/projects/v1/3yp/E15/Au...  \n..                                                 ...  \n142  http://api.ce.pdn.ac.lk/projects/v1/co502/E16/...  \n143  http://api.ce.pdn.ac.lk/projects/v1/co502/E16/...  \n144  http://api.ce.pdn.ac.lk/projects/v1/co502/E16/...  \n145  http://api.ce.pdn.ac.lk/projects/v1/co542/E14/...  \n146  http://api.ce.pdn.ac.lk/projects/v1/co226/E17/...  \n\n[147 rows x 10 columns]",
      "text/html": "<div>\n<style scoped>\n    .dataframe tbody tr th:only-of-type {\n        vertical-align: middle;\n    }\n\n    .dataframe tbody tr th {\n        vertical-align: top;\n    }\n\n    .dataframe thead th {\n        text-align: right;\n    }\n</style>\n<table border=\"1\" class=\"dataframe\">\n  <thead>\n    <tr style=\"text-align: right;\">\n      <th></th>\n      <th>title</th>\n      <th>Scraped Data</th>\n      <th>description</th>\n      <th>batch</th>\n      <th>category</th>\n      <th>project_url</th>\n      <th>repo_url</th>\n      <th>page_url</th>\n      <th>data_url</th>\n      <th>api_url</th>\n    </tr>\n  </thead>\n  <tbody>\n    <tr>\n      <th>0</th>\n      <td>A GUI for controlling and supervising multiple...</td>\n      <td>A GUI for control &amp; supervising multiple robot...</td>\n      <td>The idea is to create a GUI platform where a u...</td>\n      <td>E15</td>\n      <td>Cyber-Physical Systems Projects</td>\n      <td>https://projects.ce.pdn.ac.lk/3yp/e15/A-GUI-fo...</td>\n      <td>https://github.com/cepdnaclk/e15-3yp-A-GUI-for...</td>\n      <td>https://cepdnaclk.github.io/e15-3yp-A-GUI-for-...</td>\n      <td>https://cepdnaclk.github.io/e15-3yp-A-GUI-for-...</td>\n      <td>http://api.ce.pdn.ac.lk/projects/v1/3yp/E15/A-...</td>\n    </tr>\n    <tr>\n      <th>1</th>\n      <td>An Efficient System For Waste Collection</td>\n      <td>An Efficient System For Waste Collection\\n Pro...</td>\n      <td>This Project aims to implement an Efficient Wa...</td>\n      <td>E15</td>\n      <td>Cyber-Physical Systems Projects</td>\n      <td>https://projects.ce.pdn.ac.lk/3yp/e15/An-Effic...</td>\n      <td>https://github.com/cepdnaclk/e15-3yp-An-Effici...</td>\n      <td>https://cepdnaclk.github.io/e15-3yp-An-Efficie...</td>\n      <td>https://cepdnaclk.github.io/e15-3yp-An-Efficie...</td>\n      <td>http://api.ce.pdn.ac.lk/projects/v1/3yp/E15/An...</td>\n    </tr>\n    <tr>\n      <th>2</th>\n      <td>An automated system for monitoring and control...</td>\n      <td>An automated system for monitoring and control...</td>\n      <td>This is a system for automatically controlling...</td>\n      <td>E15</td>\n      <td>Cyber-Physical Systems Projects</td>\n      <td>https://projects.ce.pdn.ac.lk/3yp/e15/An-autom...</td>\n      <td>https://github.com/cepdnaclk/e15-3yp-An-automa...</td>\n      <td>https://cepdnaclk.github.io/e15-3yp-An-automat...</td>\n      <td>https://cepdnaclk.github.io/e15-3yp-An-automat...</td>\n      <td>http://api.ce.pdn.ac.lk/projects/v1/3yp/E15/An...</td>\n    </tr>\n    <tr>\n      <th>3</th>\n      <td>Automated Bike Sharing System</td>\n      <td>Automated Bike Sharing System\\n Projects - Dep...</td>\n      <td>This project is about building an automated bi...</td>\n      <td>E15</td>\n      <td>Cyber-Physical Systems Projects</td>\n      <td>https://projects.ce.pdn.ac.lk/3yp/e15/Automate...</td>\n      <td>https://github.com/cepdnaclk/e15-3yp-Automated...</td>\n      <td>https://cepdnaclk.github.io/e15-3yp-Automated-...</td>\n      <td>https://cepdnaclk.github.io/e15-3yp-Automated-...</td>\n      <td>http://api.ce.pdn.ac.lk/projects/v1/3yp/E15/Au...</td>\n    </tr>\n    <tr>\n      <th>4</th>\n      <td>Automated Book Management System Automated Boo...</td>\n      <td>Automated Book Management System - Automated B...</td>\n      <td>In libraries, We have planned to implement a b...</td>\n      <td>E15</td>\n      <td>Cyber-Physical Systems Projects</td>\n      <td>https://projects.ce.pdn.ac.lk/3yp/e15/Automate...</td>\n      <td>https://github.com/cepdnaclk/e15-3yp-Automated...</td>\n      <td>https://cepdnaclk.github.io/e15-3yp-Automated-...</td>\n      <td>https://cepdnaclk.github.io/e15-3yp-Automated-...</td>\n      <td>http://api.ce.pdn.ac.lk/projects/v1/3yp/E15/Au...</td>\n    </tr>\n    <tr>\n      <th>...</th>\n      <td>...</td>\n      <td>...</td>\n      <td>...</td>\n      <td>...</td>\n      <td>...</td>\n      <td>...</td>\n      <td>...</td>\n      <td>...</td>\n      <td>...</td>\n      <td>...</td>\n    </tr>\n    <tr>\n      <th>142</th>\n      <td>RV32IM NoC implementation</td>\n      <td>Home - RV32IM Network on Chip Design and Imple...</td>\n      <td>NaN</td>\n      <td>E16</td>\n      <td>Advanced Computer Architecture (CO502)</td>\n      <td>https://projects.ce.pdn.ac.lk/co502/e16/RV32IM...</td>\n      <td>https://github.com/cepdnaclk/e16-co502-RV32IM-...</td>\n      <td>https://cepdnaclk.github.io/e16-co502-RV32IM-N...</td>\n      <td>https://cepdnaclk.github.io/e16-co502-RV32IM-N...</td>\n      <td>http://api.ce.pdn.ac.lk/projects/v1/co502/E16/...</td>\n    </tr>\n    <tr>\n      <th>143</th>\n      <td>RV32IM pipeline implementation group1</td>\n      <td>Home - RV32IM Pipeline Implementation\\n Home |...</td>\n      <td>The objective of this project was to design an...</td>\n      <td>E16</td>\n      <td>Advanced Computer Architecture (CO502)</td>\n      <td>https://projects.ce.pdn.ac.lk/co502/e16/RV32IM...</td>\n      <td>https://github.com/cepdnaclk/e16-co502-RV32IM-...</td>\n      <td>https://cepdnaclk.github.io/e16-co502-RV32IM-p...</td>\n      <td>https://cepdnaclk.github.io/e16-co502-RV32IM-p...</td>\n      <td>http://api.ce.pdn.ac.lk/projects/v1/co502/E16/...</td>\n    </tr>\n    <tr>\n      <th>144</th>\n      <td>RV32IM pipeline implementation group3</td>\n      <td>RISC-V 32 bit CPU\\n RISC-V 32 bit CPU\\n Home\\n...</td>\n      <td>CPU and memory system including cache memory i...</td>\n      <td>E16</td>\n      <td>Advanced Computer Architecture (CO502)</td>\n      <td>https://projects.ce.pdn.ac.lk/co502/e16/RV32IM...</td>\n      <td>https://github.com/cepdnaclk/e16-co502-RV32IM-...</td>\n      <td>https://cepdnaclk.github.io/e16-co502-RV32IM-p...</td>\n      <td>https://cepdnaclk.github.io/e16-co502-RV32IM-p...</td>\n      <td>http://api.ce.pdn.ac.lk/projects/v1/co502/E16/...</td>\n    </tr>\n    <tr>\n      <th>145</th>\n      <td>balancing an inverted pendulum using a neural ...</td>\n      <td>No project page</td>\n      <td>CO542 Project</td>\n      <td>E14</td>\n      <td>Neural Networks Projects (CO542)</td>\n      <td>https://projects.ce.pdn.ac.lk/co542/e14/balanc...</td>\n      <td>https://github.com/cepdnaclk/e14-co542-balanci...</td>\n      <td>#</td>\n      <td>#</td>\n      <td>http://api.ce.pdn.ac.lk/projects/v1/co542/E14/...</td>\n    </tr>\n    <tr>\n      <th>146</th>\n      <td>business to business database</td>\n      <td>No project page</td>\n      <td>CO226 Project - Relational Database for B2B On...</td>\n      <td>E17</td>\n      <td>Database Projects (CO226)</td>\n      <td>https://projects.ce.pdn.ac.lk/co226/e17/busine...</td>\n      <td>https://github.com/cepdnaclk/e17-co226-busines...</td>\n      <td>#</td>\n      <td>#</td>\n      <td>http://api.ce.pdn.ac.lk/projects/v1/co226/E17/...</td>\n    </tr>\n  </tbody>\n</table>\n<p>147 rows × 10 columns</p>\n</div>"
     },
     "execution_count": 137,
     "metadata": {},
     "output_type": "execute_result"
    }
   ],
   "source": [
    "df"
   ],
   "metadata": {
    "collapsed": false,
    "pycharm": {
     "name": "#%%\n"
    }
   }
  },
  {
   "cell_type": "code",
   "execution_count": 140,
   "outputs": [],
   "source": [
    "df.to_csv('../data/combined_data.csv')"
   ],
   "metadata": {
    "collapsed": false,
    "pycharm": {
     "name": "#%%\n"
    }
   }
  }
 ],
 "metadata": {
  "kernelspec": {
   "display_name": "Python 3",
   "language": "python",
   "name": "python3"
  },
  "language_info": {
   "codemirror_mode": {
    "name": "ipython",
    "version": 2
   },
   "file_extension": ".py",
   "mimetype": "text/x-python",
   "name": "python",
   "nbconvert_exporter": "python",
   "pygments_lexer": "ipython2",
   "version": "2.7.6"
  }
 },
 "nbformat": 4,
 "nbformat_minor": 0
}