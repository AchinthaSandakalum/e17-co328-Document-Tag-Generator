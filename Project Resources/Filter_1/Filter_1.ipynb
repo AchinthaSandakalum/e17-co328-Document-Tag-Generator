{
 "cells": [
  {
   "cell_type": "code",
   "execution_count": 1,
   "id": "c5d835e1",
   "metadata": {},
   "outputs": [],
   "source": [
    "import requests\n",
    "import pandas as pd\n",
    "import csv\n",
    "\n",
    "url = \"https://api.ce.pdn.ac.lk/projects/v1/all\"\n",
    "response = requests.get(url)\n",
    "result = response.json()"
   ]
  },
  {
   "cell_type": "code",
   "execution_count": 2,
   "id": "0a049804",
   "metadata": {},
   "outputs": [],
   "source": [
    "#Get data from the projrct site\n",
    "data = []\n",
    "\n",
    "for category in result:\n",
    "    for batch in result[category][\"batches\"]:\n",
    "\n",
    "        for project in result[category][\"batches\"][batch][\"projects\"]:\n",
    "\n",
    "            details = []\n",
    "            for key, value in result[category][\"batches\"][batch][\"projects\"][project].items():\n",
    "                if key == \"github\" or key == \"cover_url\" or key == \"thumbnail_url\":\n",
    "                    continue\n",
    "                details.append(value)\n",
    "            data.append(details)"
   ]
  },
  {
   "cell_type": "code",
   "execution_count": 3,
   "id": "b99e8338",
   "metadata": {},
   "outputs": [],
   "source": [
    "#Create a data frame\n",
    "data = pd.DataFrame(data)\n",
    "data = data[[0]]\n",
    "data.columns = [\"title\"]"
   ]
  },
  {
   "cell_type": "code",
   "execution_count": 5,
   "id": "97d6e46d",
   "metadata": {},
   "outputs": [],
   "source": [
    "#Removing unvanted data stage 1\n",
    "for i in range (90): #(len(data.title)):\n",
    "    \n",
    "    title = data.title[i]+'.txt'\n",
    "\n",
    "    f = open(\"data/\"+title,'r',encoding=\"utf8\")\n",
    "    f2 = open(\"filtered/\"+title,'w',encoding=\"utf8\")\n",
    "\n",
    "    line = f.readline()\n",
    "\n",
    "    while line:\n",
    "        #Remove if any line starts with below twxt\n",
    "        if (line.startswith(\"E/\")) or (line.startswith(\"Project\")) or (line.startswith(\"Team\")) or (line.startswith(\"Introduction\")) or (line.startswith(\"Instruction\")) or (line.startswith(\"Links\")) or (line.startswith(\"Introduction\")) or (line.startswith(\"Department\")) or (line.startswith(\"University\")):\n",
    "            {}\n",
    "        else:\n",
    "            f2.write(line)\n",
    "        line = f.readline()\n",
    "    \n",
    "    f2.close\n",
    "    f.close"
   ]
  },
  {
   "cell_type": "code",
   "execution_count": null,
   "id": "5c0bfa61",
   "metadata": {},
   "outputs": [],
   "source": []
  }
 ],
 "metadata": {
  "kernelspec": {
   "display_name": "Python 3 (ipykernel)",
   "language": "python",
   "name": "python3"
  },
  "language_info": {
   "codemirror_mode": {
    "name": "ipython",
    "version": 3
   },
   "file_extension": ".py",
   "mimetype": "text/x-python",
   "name": "python",
   "nbconvert_exporter": "python",
   "pygments_lexer": "ipython3",
   "version": "3.10.2"
  }
 },
 "nbformat": 4,
 "nbformat_minor": 5
}
