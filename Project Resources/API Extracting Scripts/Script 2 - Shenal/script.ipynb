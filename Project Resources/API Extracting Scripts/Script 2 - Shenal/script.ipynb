{
 "cells": [
  {
   "cell_type": "code",
   "execution_count": 79,
   "metadata": {},
   "outputs": [],
   "source": [
    "import requests\n",
    "import csv\n",
    "# url = 'https://api.ce.pdn.ac.lk/projects/v1/all'\n",
    "url = 'http://localhost:4000/projects/v1/all'\n",
    "# r = requests.get('http://localhost:4000/projects/v1/all')\n",
    "r = requests.get(url)\n",
    "jsonData = r.json()"
   ]
  },
  {
   "cell_type": "code",
   "execution_count": 80,
   "outputs": [],
   "source": [
    "# Fields that want to extract from the projects\n",
    "fieldnames = ['title','description','batch','category','project_url','repo_url','page_url','data_url','api_url']\n",
    "\n",
    "with open('data/data.csv','w',newline='',encoding='utf8') as csvfile:\n",
    "    writer = csv.writer(csvfile)\n",
    "    writer.writerow(fieldnames)\n",
    "    count = 0\n",
    "    project_count = 0\n",
    "    for category in jsonData:\n",
    "            for batch in jsonData[category]['batches']:\n",
    "                project_count += jsonData[category]['batches'][batch]['project_count']\n",
    "                for project in jsonData[category]['batches'][batch]['projects']:\n",
    "                    details = jsonData[category]['batches'][batch]['projects'][project]\n",
    "                    data = [details[key] for key in fieldnames]\n",
    "                    count += 1\n",
    "                    # print(data)\n",
    "                    writer.writerow(data)\n",
    "    assert count == project_count"
   ],
   "metadata": {
    "collapsed": false,
    "pycharm": {
     "name": "#%%\n"
    }
   }
  }
 ],
 "metadata": {
  "kernelspec": {
   "display_name": "Python 3",
   "language": "python",
   "name": "python3"
  },
  "language_info": {
   "codemirror_mode": {
    "name": "ipython",
    "version": 3
   },
   "file_extension": ".py",
   "mimetype": "text/x-python",
   "name": "python",
   "nbconvert_exporter": "python",
   "pygments_lexer": "ipython3",
   "version": "3.9.7"
  }
 },
 "nbformat": 4,
 "nbformat_minor": 0
}