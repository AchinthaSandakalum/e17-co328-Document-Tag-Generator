{
 "cells": [
  {
   "cell_type": "code",
   "execution_count": 1,
   "metadata": {},
   "outputs": [],
   "source": [
    "import requests\n",
    "import csv\n",
    "# url = 'https://api.ce.pdn.ac.lk/projects/v1/all'\n",
    "\n",
    "url = 'http://localhost:4000/projects/v1/all'\n",
    "\n",
    "r = requests.get(url)\n",
    "jsonData = r.json()"
   ]
  },
  {
   "cell_type": "code",
   "execution_count": 2,
   "metadata": {
    "collapsed": false,
    "pycharm": {
     "name": "#%%\n"
    }
   },
   "outputs": [],
   "source": [
    "# Fields that want to extract from the projects\n",
    "fieldnames = ['title','description','batch','project_url','repo_url','page_url','data_url','api_url','category']\n",
    "\n",
    "with open('data/data.csv','w',newline='',encoding='utf8') as csvfile:\n",
    "    writer = csv.writer(csvfile)\n",
    "    writer.writerow(fieldnames)\n",
    "    \n",
    "    count = 0\n",
    "    project_count = 0\n",
    "    for category in jsonData:\n",
    "            for batch in jsonData[category]['batches']:\n",
    "                project_count += jsonData[category]['batches'][batch]['project_count']\n",
    "                for project in jsonData[category]['batches'][batch]['projects']:\n",
    "                    details = jsonData[category]['batches'][batch]['projects'][project]\n",
    "                    data = [details[key] for key in details]\n",
    "                    count += 1\n",
    "                    data.append(category)\n",
    "                    # print(data)\n",
    "                    writer.writerow(data)\n",
    "    \n",
    "    # Assertion will be fail when the project count is not eqaul to the count\n",
    "    assert count == project_count"
   ]
  }
 ],
 "metadata": {
  "kernelspec": {
   "display_name": "Python 3",
   "language": "python",
   "name": "python3"
  },
  "language_info": {
   "codemirror_mode": {
    "name": "ipython",
    "version": 3
   },
   "file_extension": ".py",
   "mimetype": "text/x-python",
   "name": "python",
   "nbconvert_exporter": "python",
   "pygments_lexer": "ipython3",
   "version": "3.9.7"
  }
 },
 "nbformat": 4,
 "nbformat_minor": 0
}
