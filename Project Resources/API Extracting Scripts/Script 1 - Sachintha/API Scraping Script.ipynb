{
 "cells": [
  {
   "cell_type": "code",
   "execution_count": 2,
   "outputs": [],
   "source": [
    "import requests\n",
    "import csv\n",
    "\n",
    "url = \"https://api.ce.pdn.ac.lk/projects/v1/all\"\n",
    "response = requests.get(url)\n",
    "\n",
    "result = response.json()"
   ],
   "metadata": {
    "collapsed": false,
    "pycharm": {
     "name": "#%%\n"
    }
   }
  },
  {
   "cell_type": "code",
   "execution_count": 14,
   "outputs": [],
   "source": [
    "\n",
    "csv_file = open(\"data/projects_details.csv\", \"w\", encoding='utf-8', newline='')\n",
    "writer = csv.writer(csv_file)\n",
    "\n",
    "writer.writerow([\"title\" , \"description\", \"batch\", \"category\", \"project_url\", \"repo_url\", \"page_url\", \"data_url\", \"api_url\",])\n",
    "\n",
    "for category in result:\n",
    "    for batch in result[category][\"batches\"]:\n",
    "\n",
    "        for project in result[category][\"batches\"][batch][\"projects\"]:\n",
    "\n",
    "            details = []\n",
    "            for key, value in result[category][\"batches\"][batch][\"projects\"][project].items():\n",
    "                if key == \"github\" or key == \"cover_url\" or key == \"thumbnail_url\":\n",
    "                    continue\n",
    "                details.append(value)\n",
    "            writer.writerow(details)\n",
    "\n",
    "csv_file.close()"
   ],
   "metadata": {
    "collapsed": false,
    "pycharm": {
     "name": "#%%\n"
    }
   }
  },
  {
   "cell_type": "code",
   "execution_count": 15,
   "outputs": [
    {
     "data": {
      "text/plain": "                                               title  \\\n0  A GUI for controlling and supervising multiple...   \n1           An Efficient System For Waste Collection   \n2  An automated system for monitoring and control...   \n3                      Automated Bike Sharing System   \n4  Automated Book Management System Automated Boo...   \n\n                                         description batch  \\\n0  The idea is to create a GUI platform where a u...   E15   \n1  This Project aims to implement an Efficient Wa...   E15   \n2  This is a system for automatically controlling...   E15   \n3  This project is about building an automated bi...   E15   \n4  In libraries, We have planned to implement a b...   E15   \n\n                          category  \\\n0  Cyber-Physical Systems Projects   \n1  Cyber-Physical Systems Projects   \n2  Cyber-Physical Systems Projects   \n3  Cyber-Physical Systems Projects   \n4  Cyber-Physical Systems Projects   \n\n                                         project_url  \\\n0  https://projects.ce.pdn.ac.lk/3yp/e15/A-GUI-fo...   \n1  https://projects.ce.pdn.ac.lk/3yp/e15/An-Effic...   \n2  https://projects.ce.pdn.ac.lk/3yp/e15/An-autom...   \n3  https://projects.ce.pdn.ac.lk/3yp/e15/Automate...   \n4  https://projects.ce.pdn.ac.lk/3yp/e15/Automate...   \n\n                                            repo_url  \\\n0  https://github.com/cepdnaclk/e15-3yp-A-GUI-for...   \n1  https://github.com/cepdnaclk/e15-3yp-An-Effici...   \n2  https://github.com/cepdnaclk/e15-3yp-An-automa...   \n3  https://github.com/cepdnaclk/e15-3yp-Automated...   \n4  https://github.com/cepdnaclk/e15-3yp-Automated...   \n\n                                            page_url  \\\n0  https://cepdnaclk.github.io/e15-3yp-A-GUI-for-...   \n1  https://cepdnaclk.github.io/e15-3yp-An-Efficie...   \n2  https://cepdnaclk.github.io/e15-3yp-An-automat...   \n3  https://cepdnaclk.github.io/e15-3yp-Automated-...   \n4  https://cepdnaclk.github.io/e15-3yp-Automated-...   \n\n                                            data_url  \\\n0  https://cepdnaclk.github.io/e15-3yp-A-GUI-for-...   \n1  https://cepdnaclk.github.io/e15-3yp-An-Efficie...   \n2  https://cepdnaclk.github.io/e15-3yp-An-automat...   \n3  https://cepdnaclk.github.io/e15-3yp-Automated-...   \n4  https://cepdnaclk.github.io/e15-3yp-Automated-...   \n\n                                             api_url  \n0  http://api.ce.pdn.ac.lk/projects/v1/3yp/E15/A-...  \n1  http://api.ce.pdn.ac.lk/projects/v1/3yp/E15/An...  \n2  http://api.ce.pdn.ac.lk/projects/v1/3yp/E15/An...  \n3  http://api.ce.pdn.ac.lk/projects/v1/3yp/E15/Au...  \n4  http://api.ce.pdn.ac.lk/projects/v1/3yp/E15/Au...  ",
      "text/html": "<div>\n<style scoped>\n    .dataframe tbody tr th:only-of-type {\n        vertical-align: middle;\n    }\n\n    .dataframe tbody tr th {\n        vertical-align: top;\n    }\n\n    .dataframe thead th {\n        text-align: right;\n    }\n</style>\n<table border=\"1\" class=\"dataframe\">\n  <thead>\n    <tr style=\"text-align: right;\">\n      <th></th>\n      <th>title</th>\n      <th>description</th>\n      <th>batch</th>\n      <th>category</th>\n      <th>project_url</th>\n      <th>repo_url</th>\n      <th>page_url</th>\n      <th>data_url</th>\n      <th>api_url</th>\n    </tr>\n  </thead>\n  <tbody>\n    <tr>\n      <th>0</th>\n      <td>A GUI for controlling and supervising multiple...</td>\n      <td>The idea is to create a GUI platform where a u...</td>\n      <td>E15</td>\n      <td>Cyber-Physical Systems Projects</td>\n      <td>https://projects.ce.pdn.ac.lk/3yp/e15/A-GUI-fo...</td>\n      <td>https://github.com/cepdnaclk/e15-3yp-A-GUI-for...</td>\n      <td>https://cepdnaclk.github.io/e15-3yp-A-GUI-for-...</td>\n      <td>https://cepdnaclk.github.io/e15-3yp-A-GUI-for-...</td>\n      <td>http://api.ce.pdn.ac.lk/projects/v1/3yp/E15/A-...</td>\n    </tr>\n    <tr>\n      <th>1</th>\n      <td>An Efficient System For Waste Collection</td>\n      <td>This Project aims to implement an Efficient Wa...</td>\n      <td>E15</td>\n      <td>Cyber-Physical Systems Projects</td>\n      <td>https://projects.ce.pdn.ac.lk/3yp/e15/An-Effic...</td>\n      <td>https://github.com/cepdnaclk/e15-3yp-An-Effici...</td>\n      <td>https://cepdnaclk.github.io/e15-3yp-An-Efficie...</td>\n      <td>https://cepdnaclk.github.io/e15-3yp-An-Efficie...</td>\n      <td>http://api.ce.pdn.ac.lk/projects/v1/3yp/E15/An...</td>\n    </tr>\n    <tr>\n      <th>2</th>\n      <td>An automated system for monitoring and control...</td>\n      <td>This is a system for automatically controlling...</td>\n      <td>E15</td>\n      <td>Cyber-Physical Systems Projects</td>\n      <td>https://projects.ce.pdn.ac.lk/3yp/e15/An-autom...</td>\n      <td>https://github.com/cepdnaclk/e15-3yp-An-automa...</td>\n      <td>https://cepdnaclk.github.io/e15-3yp-An-automat...</td>\n      <td>https://cepdnaclk.github.io/e15-3yp-An-automat...</td>\n      <td>http://api.ce.pdn.ac.lk/projects/v1/3yp/E15/An...</td>\n    </tr>\n    <tr>\n      <th>3</th>\n      <td>Automated Bike Sharing System</td>\n      <td>This project is about building an automated bi...</td>\n      <td>E15</td>\n      <td>Cyber-Physical Systems Projects</td>\n      <td>https://projects.ce.pdn.ac.lk/3yp/e15/Automate...</td>\n      <td>https://github.com/cepdnaclk/e15-3yp-Automated...</td>\n      <td>https://cepdnaclk.github.io/e15-3yp-Automated-...</td>\n      <td>https://cepdnaclk.github.io/e15-3yp-Automated-...</td>\n      <td>http://api.ce.pdn.ac.lk/projects/v1/3yp/E15/Au...</td>\n    </tr>\n    <tr>\n      <th>4</th>\n      <td>Automated Book Management System Automated Boo...</td>\n      <td>In libraries, We have planned to implement a b...</td>\n      <td>E15</td>\n      <td>Cyber-Physical Systems Projects</td>\n      <td>https://projects.ce.pdn.ac.lk/3yp/e15/Automate...</td>\n      <td>https://github.com/cepdnaclk/e15-3yp-Automated...</td>\n      <td>https://cepdnaclk.github.io/e15-3yp-Automated-...</td>\n      <td>https://cepdnaclk.github.io/e15-3yp-Automated-...</td>\n      <td>http://api.ce.pdn.ac.lk/projects/v1/3yp/E15/Au...</td>\n    </tr>\n  </tbody>\n</table>\n</div>"
     },
     "execution_count": 15,
     "metadata": {},
     "output_type": "execute_result"
    }
   ],
   "source": [
    "import pandas\n",
    "\n",
    "df = pandas.read_csv(\"data/projects_details.csv\")\n",
    "df.head()"
   ],
   "metadata": {
    "collapsed": false,
    "pycharm": {
     "name": "#%%\n"
    }
   }
  },
  {
   "cell_type": "code",
   "execution_count": null,
   "outputs": [],
   "source": [],
   "metadata": {
    "collapsed": false,
    "pycharm": {
     "name": "#%%\n"
    }
   }
  }
 ],
 "metadata": {
  "kernelspec": {
   "display_name": "Python 3",
   "language": "python",
   "name": "python3"
  },
  "language_info": {
   "codemirror_mode": {
    "name": "ipython",
    "version": 2
   },
   "file_extension": ".py",
   "mimetype": "text/x-python",
   "name": "python",
   "nbconvert_exporter": "python",
   "pygments_lexer": "ipython2",
   "version": "2.7.6"
  }
 },
 "nbformat": 4,
 "nbformat_minor": 0
}