{
 "cells": [
  {
   "cell_type": "code",
   "execution_count": 1,
   "outputs": [],
   "source": [
    "import requests\n",
    "import csv\n",
    "\n",
    "url = \"https://api.ce.pdn.ac.lk/projects/v1/all\"\n",
    "response = requests.get(url)\n",
    "\n",
    "result = response.json()"
   ],
   "metadata": {
    "collapsed": false,
    "pycharm": {
     "name": "#%%\n"
    }
   }
  },
  {
   "cell_type": "code",
   "execution_count": 2,
   "outputs": [],
   "source": [
    "\n",
    "csv_file = open(\"projects_details.csv\", \"w\", encoding='utf-8', newline='')\n",
    "writer = csv.writer(csv_file)\n",
    "\n",
    "for category in result:\n",
    "    for batch in result[category][\"batches\"]:\n",
    "\n",
    "        for project in result[category][\"batches\"][batch][\"projects\"]:\n",
    "\n",
    "            details = []\n",
    "            for key, value in result[category][\"batches\"][batch][\"projects\"][project].items():\n",
    "                if key != \"github\":\n",
    "                    details.append(value)\n",
    "            writer.writerow(details)\n",
    "\n",
    "csv_file.close()"
   ],
   "metadata": {
    "collapsed": false,
    "pycharm": {
     "name": "#%%\n"
    }
   }
  },
  {
   "cell_type": "code",
   "execution_count": 4,
   "outputs": [
    {
     "data": {
      "text/plain": "  A GUI for controlling and supervising multiple robots remotely  \\\n0           An Efficient System For Waste Collection               \n1  An automated system for monitoring and control...               \n2                      Automated Bike Sharing System               \n3  Automated Book Management System Automated Boo...               \n4                   Automated Vehicle Parking System               \n\n  The idea is to create a GUI platform where a user can give commands which is to be followed by some ground units in a remote location. The server can identify the starting locations of the robots and manipulate them to do the task in the most efficient way as possible.  \\\n0  This Project aims to implement an Efficient Wa...                                                                                                                                                                                                                              \n1  This is a system for automatically controlling...                                                                                                                                                                                                                              \n2  This project is about building an automated bi...                                                                                                                                                                                                                              \n3  In libraries, We have planned to implement a b...                                                                                                                                                                                                                              \n4  Vehicle Parking areas usually have people who ...                                                                                                                                                                                                                              \n\n   E15  Cyber-Physical Systems Projects  \\\n0  E15  Cyber-Physical Systems Projects   \n1  E15  Cyber-Physical Systems Projects   \n2  E15  Cyber-Physical Systems Projects   \n3  E15  Cyber-Physical Systems Projects   \n4  E15  Cyber-Physical Systems Projects   \n\n  https://projects.ce.pdn.ac.lk/3yp/e15/A-GUI-for-controlling-and-supervising-multiple-robots-remotely/  \\\n0  https://projects.ce.pdn.ac.lk/3yp/e15/An-Effic...                                                      \n1  https://projects.ce.pdn.ac.lk/3yp/e15/An-autom...                                                      \n2  https://projects.ce.pdn.ac.lk/3yp/e15/Automate...                                                      \n3  https://projects.ce.pdn.ac.lk/3yp/e15/Automate...                                                      \n4  https://projects.ce.pdn.ac.lk/3yp/e15/Automate...                                                      \n\n  https://projects.ce.pdn.ac.lk/data/categories/3yp/cover_page.jpg  \\\n0  https://projects.ce.pdn.ac.lk/data/categories/...                 \n1  https://projects.ce.pdn.ac.lk/data/categories/...                 \n2  https://projects.ce.pdn.ac.lk/data/categories/...                 \n3  https://projects.ce.pdn.ac.lk/data/categories/...                 \n4  https://projects.ce.pdn.ac.lk/data/categories/...                 \n\n  https://projects.ce.pdn.ac.lk/data/categories/3yp/thumbnail.jpg  \\\n0  https://projects.ce.pdn.ac.lk/data/categories/...                \n1  https://projects.ce.pdn.ac.lk/data/categories/...                \n2  https://projects.ce.pdn.ac.lk/data/categories/...                \n3  https://projects.ce.pdn.ac.lk/data/categories/...                \n4  https://projects.ce.pdn.ac.lk/data/categories/...                \n\n  https://github.com/cepdnaclk/e15-3yp-A-GUI-for-controlling-and-supervising-multiple-robots-remotely  \\\n0  https://github.com/cepdnaclk/e15-3yp-An-Effici...                                                    \n1  https://github.com/cepdnaclk/e15-3yp-An-automa...                                                    \n2  https://github.com/cepdnaclk/e15-3yp-Automated...                                                    \n3  https://github.com/cepdnaclk/e15-3yp-Automated...                                                    \n4  https://github.com/cepdnaclk/e15-3yp-Automated...                                                    \n\n  https://cepdnaclk.github.io/e15-3yp-A-GUI-for-controlling-and-supervising-multiple-robots-remotely  \\\n0  https://cepdnaclk.github.io/e15-3yp-An-Efficie...                                                   \n1  https://cepdnaclk.github.io/e15-3yp-An-automat...                                                   \n2  https://cepdnaclk.github.io/e15-3yp-Automated-...                                                   \n3  https://cepdnaclk.github.io/e15-3yp-Automated-...                                                   \n4  https://cepdnaclk.github.io/e15-3yp-Automated-...                                                   \n\n  https://cepdnaclk.github.io/e15-3yp-A-GUI-for-controlling-and-supervising-multiple-robots-remotely/data/index.json  \\\n0  https://cepdnaclk.github.io/e15-3yp-An-Efficie...                                                                   \n1  https://cepdnaclk.github.io/e15-3yp-An-automat...                                                                   \n2  https://cepdnaclk.github.io/e15-3yp-Automated-...                                                                   \n3  https://cepdnaclk.github.io/e15-3yp-Automated-...                                                                   \n4  https://cepdnaclk.github.io/e15-3yp-Automated-...                                                                   \n\n  http://api.ce.pdn.ac.lk/projects/v1/3yp/E15/A-GUI-for-controlling-and-supervising-multiple-robots-remotely/  \n0  http://api.ce.pdn.ac.lk/projects/v1/3yp/E15/An...                                                           \n1  http://api.ce.pdn.ac.lk/projects/v1/3yp/E15/An...                                                           \n2  http://api.ce.pdn.ac.lk/projects/v1/3yp/E15/Au...                                                           \n3  http://api.ce.pdn.ac.lk/projects/v1/3yp/E15/Au...                                                           \n4  http://api.ce.pdn.ac.lk/projects/v1/3yp/E15/Au...                                                           ",
      "text/html": "<div>\n<style scoped>\n    .dataframe tbody tr th:only-of-type {\n        vertical-align: middle;\n    }\n\n    .dataframe tbody tr th {\n        vertical-align: top;\n    }\n\n    .dataframe thead th {\n        text-align: right;\n    }\n</style>\n<table border=\"1\" class=\"dataframe\">\n  <thead>\n    <tr style=\"text-align: right;\">\n      <th></th>\n      <th>A GUI for controlling and supervising multiple robots remotely</th>\n      <th>The idea is to create a GUI platform where a user can give commands which is to be followed by some ground units in a remote location. The server can identify the starting locations of the robots and manipulate them to do the task in the most efficient way as possible.</th>\n      <th>E15</th>\n      <th>Cyber-Physical Systems Projects</th>\n      <th>https://projects.ce.pdn.ac.lk/3yp/e15/A-GUI-for-controlling-and-supervising-multiple-robots-remotely/</th>\n      <th>https://projects.ce.pdn.ac.lk/data/categories/3yp/cover_page.jpg</th>\n      <th>https://projects.ce.pdn.ac.lk/data/categories/3yp/thumbnail.jpg</th>\n      <th>https://github.com/cepdnaclk/e15-3yp-A-GUI-for-controlling-and-supervising-multiple-robots-remotely</th>\n      <th>https://cepdnaclk.github.io/e15-3yp-A-GUI-for-controlling-and-supervising-multiple-robots-remotely</th>\n      <th>https://cepdnaclk.github.io/e15-3yp-A-GUI-for-controlling-and-supervising-multiple-robots-remotely/data/index.json</th>\n      <th>http://api.ce.pdn.ac.lk/projects/v1/3yp/E15/A-GUI-for-controlling-and-supervising-multiple-robots-remotely/</th>\n    </tr>\n  </thead>\n  <tbody>\n    <tr>\n      <th>0</th>\n      <td>An Efficient System For Waste Collection</td>\n      <td>This Project aims to implement an Efficient Wa...</td>\n      <td>E15</td>\n      <td>Cyber-Physical Systems Projects</td>\n      <td>https://projects.ce.pdn.ac.lk/3yp/e15/An-Effic...</td>\n      <td>https://projects.ce.pdn.ac.lk/data/categories/...</td>\n      <td>https://projects.ce.pdn.ac.lk/data/categories/...</td>\n      <td>https://github.com/cepdnaclk/e15-3yp-An-Effici...</td>\n      <td>https://cepdnaclk.github.io/e15-3yp-An-Efficie...</td>\n      <td>https://cepdnaclk.github.io/e15-3yp-An-Efficie...</td>\n      <td>http://api.ce.pdn.ac.lk/projects/v1/3yp/E15/An...</td>\n    </tr>\n    <tr>\n      <th>1</th>\n      <td>An automated system for monitoring and control...</td>\n      <td>This is a system for automatically controlling...</td>\n      <td>E15</td>\n      <td>Cyber-Physical Systems Projects</td>\n      <td>https://projects.ce.pdn.ac.lk/3yp/e15/An-autom...</td>\n      <td>https://projects.ce.pdn.ac.lk/data/categories/...</td>\n      <td>https://projects.ce.pdn.ac.lk/data/categories/...</td>\n      <td>https://github.com/cepdnaclk/e15-3yp-An-automa...</td>\n      <td>https://cepdnaclk.github.io/e15-3yp-An-automat...</td>\n      <td>https://cepdnaclk.github.io/e15-3yp-An-automat...</td>\n      <td>http://api.ce.pdn.ac.lk/projects/v1/3yp/E15/An...</td>\n    </tr>\n    <tr>\n      <th>2</th>\n      <td>Automated Bike Sharing System</td>\n      <td>This project is about building an automated bi...</td>\n      <td>E15</td>\n      <td>Cyber-Physical Systems Projects</td>\n      <td>https://projects.ce.pdn.ac.lk/3yp/e15/Automate...</td>\n      <td>https://projects.ce.pdn.ac.lk/data/categories/...</td>\n      <td>https://projects.ce.pdn.ac.lk/data/categories/...</td>\n      <td>https://github.com/cepdnaclk/e15-3yp-Automated...</td>\n      <td>https://cepdnaclk.github.io/e15-3yp-Automated-...</td>\n      <td>https://cepdnaclk.github.io/e15-3yp-Automated-...</td>\n      <td>http://api.ce.pdn.ac.lk/projects/v1/3yp/E15/Au...</td>\n    </tr>\n    <tr>\n      <th>3</th>\n      <td>Automated Book Management System Automated Boo...</td>\n      <td>In libraries, We have planned to implement a b...</td>\n      <td>E15</td>\n      <td>Cyber-Physical Systems Projects</td>\n      <td>https://projects.ce.pdn.ac.lk/3yp/e15/Automate...</td>\n      <td>https://projects.ce.pdn.ac.lk/data/categories/...</td>\n      <td>https://projects.ce.pdn.ac.lk/data/categories/...</td>\n      <td>https://github.com/cepdnaclk/e15-3yp-Automated...</td>\n      <td>https://cepdnaclk.github.io/e15-3yp-Automated-...</td>\n      <td>https://cepdnaclk.github.io/e15-3yp-Automated-...</td>\n      <td>http://api.ce.pdn.ac.lk/projects/v1/3yp/E15/Au...</td>\n    </tr>\n    <tr>\n      <th>4</th>\n      <td>Automated Vehicle Parking System</td>\n      <td>Vehicle Parking areas usually have people who ...</td>\n      <td>E15</td>\n      <td>Cyber-Physical Systems Projects</td>\n      <td>https://projects.ce.pdn.ac.lk/3yp/e15/Automate...</td>\n      <td>https://projects.ce.pdn.ac.lk/data/categories/...</td>\n      <td>https://projects.ce.pdn.ac.lk/data/categories/...</td>\n      <td>https://github.com/cepdnaclk/e15-3yp-Automated...</td>\n      <td>https://cepdnaclk.github.io/e15-3yp-Automated-...</td>\n      <td>https://cepdnaclk.github.io/e15-3yp-Automated-...</td>\n      <td>http://api.ce.pdn.ac.lk/projects/v1/3yp/E15/Au...</td>\n    </tr>\n  </tbody>\n</table>\n</div>"
     },
     "execution_count": 4,
     "metadata": {},
     "output_type": "execute_result"
    }
   ],
   "source": [
    "import pandas\n",
    "\n",
    "df = pandas.read_csv(\"projects_details.csv\")\n",
    "df.head()"
   ],
   "metadata": {
    "collapsed": false,
    "pycharm": {
     "name": "#%%\n"
    }
   }
  },
  {
   "cell_type": "code",
   "execution_count": null,
   "outputs": [],
   "source": [],
   "metadata": {
    "collapsed": false,
    "pycharm": {
     "name": "#%%\n"
    }
   }
  }
 ],
 "metadata": {
  "kernelspec": {
   "display_name": "Python 3",
   "language": "python",
   "name": "python3"
  },
  "language_info": {
   "codemirror_mode": {
    "name": "ipython",
    "version": 2
   },
   "file_extension": ".py",
   "mimetype": "text/x-python",
   "name": "python",
   "nbconvert_exporter": "python",
   "pygments_lexer": "ipython2",
   "version": "2.7.6"
  }
 },
 "nbformat": 4,
 "nbformat_minor": 0
}