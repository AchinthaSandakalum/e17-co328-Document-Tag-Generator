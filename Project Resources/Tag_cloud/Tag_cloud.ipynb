{
  "cells": [
    {
      "cell_type": "code",
      "execution_count": null,
      "metadata": {
        "id": "8AD-gBpaYNcm"
      },
      "outputs": [],
      "source": [
        "import numpy as np\n",
        "import pandas as pd\n",
        "import requests\n",
        "import csv\n",
        "from os import path\n",
        "from PIL import Image\n",
        "from collections import Counter\n",
        "from wordcloud import WordCloud, STOPWORDS, ImageColorGenerator\n",
        "\n",
        "import matplotlib.pyplot as plt\n",
        "% matplotlib inline"
      ]
    },
    {
      "cell_type": "code",
      "execution_count": null,
      "metadata": {
        "id": "CXY_fqfOkk2H"
      },
      "outputs": [],
      "source": [
        "url = \"https://api.ce.pdn.ac.lk/projects/v1/all\"\n",
        "response = requests.get(url)\n",
        "result = response.json()"
      ]
    },
    {
      "cell_type": "code",
      "execution_count": null,
      "metadata": {
        "colab": {
          "background_save": true
        },
        "id": "xt6XW81kkqnD"
      },
      "outputs": [],
      "source": [
        "#Get data from the projrct site\n",
        "data = []\n",
        "\n",
        "for category in result:\n",
        "    for batch in result[category][\"batches\"]:\n",
        "\n",
        "        for project in result[category][\"batches\"][batch][\"projects\"]:\n",
        "\n",
        "            details = []\n",
        "            for key, value in result[category][\"batches\"][batch][\"projects\"][project].items():\n",
        "                if key == \"github\" or key == \"cover_url\" or key == \"thumbnail_url\":\n",
        "                    continue\n",
        "                details.append(value)\n",
        "            data.append(details)"
      ]
    },
    {
      "cell_type": "code",
      "execution_count": null,
      "metadata": {
        "colab": {
          "background_save": true,
          "base_uri": "https://localhost:8080/",
          "height": 337
        },
        "id": "VqLlcNW_kvu9",
        "outputId": "ce9635f1-f3d8-44f6-d758-498810b3aac8"
      },
      "outputs": [
        {
          "data": {
            "text/html": [
              "\n",
              "  <div id=\"df-85df9857-56cf-46a2-b645-0faaac871f3c\">\n",
              "    <div class=\"colab-df-container\">\n",
              "      <div>\n",
              "<style scoped>\n",
              "    .dataframe tbody tr th:only-of-type {\n",
              "        vertical-align: middle;\n",
              "    }\n",
              "\n",
              "    .dataframe tbody tr th {\n",
              "        vertical-align: top;\n",
              "    }\n",
              "\n",
              "    .dataframe thead th {\n",
              "        text-align: right;\n",
              "    }\n",
              "</style>\n",
              "<table border=\"1\" class=\"dataframe\">\n",
              "  <thead>\n",
              "    <tr style=\"text-align: right;\">\n",
              "      <th></th>\n",
              "      <th>title</th>\n",
              "      <th>description</th>\n",
              "    </tr>\n",
              "  </thead>\n",
              "  <tbody>\n",
              "    <tr>\n",
              "      <th>0</th>\n",
              "      <td>A GUI for controlling and supervising multiple...</td>\n",
              "      <td>The idea is to create a GUI platform where a u...</td>\n",
              "    </tr>\n",
              "    <tr>\n",
              "      <th>1</th>\n",
              "      <td>An Efficient System For Waste Collection</td>\n",
              "      <td>This Project aims to implement an Efficient Wa...</td>\n",
              "    </tr>\n",
              "    <tr>\n",
              "      <th>2</th>\n",
              "      <td>An automated system for monitoring and control...</td>\n",
              "      <td>This is a system for automatically controlling...</td>\n",
              "    </tr>\n",
              "    <tr>\n",
              "      <th>3</th>\n",
              "      <td>Automated Bike Sharing System</td>\n",
              "      <td>This project is about building an automated bi...</td>\n",
              "    </tr>\n",
              "    <tr>\n",
              "      <th>4</th>\n",
              "      <td>Automated Book Management System Automated Boo...</td>\n",
              "      <td>In libraries, We have planned to implement a b...</td>\n",
              "    </tr>\n",
              "  </tbody>\n",
              "</table>\n",
              "</div>\n",
              "      <button class=\"colab-df-convert\" onclick=\"convertToInteractive('df-85df9857-56cf-46a2-b645-0faaac871f3c')\"\n",
              "              title=\"Convert this dataframe to an interactive table.\"\n",
              "              style=\"display:none;\">\n",
              "        \n",
              "  <svg xmlns=\"http://www.w3.org/2000/svg\" height=\"24px\"viewBox=\"0 0 24 24\"\n",
              "       width=\"24px\">\n",
              "    <path d=\"M0 0h24v24H0V0z\" fill=\"none\"/>\n",
              "    <path d=\"M18.56 5.44l.94 2.06.94-2.06 2.06-.94-2.06-.94-.94-2.06-.94 2.06-2.06.94zm-11 1L8.5 8.5l.94-2.06 2.06-.94-2.06-.94L8.5 2.5l-.94 2.06-2.06.94zm10 10l.94 2.06.94-2.06 2.06-.94-2.06-.94-.94-2.06-.94 2.06-2.06.94z\"/><path d=\"M17.41 7.96l-1.37-1.37c-.4-.4-.92-.59-1.43-.59-.52 0-1.04.2-1.43.59L10.3 9.45l-7.72 7.72c-.78.78-.78 2.05 0 2.83L4 21.41c.39.39.9.59 1.41.59.51 0 1.02-.2 1.41-.59l7.78-7.78 2.81-2.81c.8-.78.8-2.07 0-2.86zM5.41 20L4 18.59l7.72-7.72 1.47 1.35L5.41 20z\"/>\n",
              "  </svg>\n",
              "      </button>\n",
              "      \n",
              "  <style>\n",
              "    .colab-df-container {\n",
              "      display:flex;\n",
              "      flex-wrap:wrap;\n",
              "      gap: 12px;\n",
              "    }\n",
              "\n",
              "    .colab-df-convert {\n",
              "      background-color: #E8F0FE;\n",
              "      border: none;\n",
              "      border-radius: 50%;\n",
              "      cursor: pointer;\n",
              "      display: none;\n",
              "      fill: #1967D2;\n",
              "      height: 32px;\n",
              "      padding: 0 0 0 0;\n",
              "      width: 32px;\n",
              "    }\n",
              "\n",
              "    .colab-df-convert:hover {\n",
              "      background-color: #E2EBFA;\n",
              "      box-shadow: 0px 1px 2px rgba(60, 64, 67, 0.3), 0px 1px 3px 1px rgba(60, 64, 67, 0.15);\n",
              "      fill: #174EA6;\n",
              "    }\n",
              "\n",
              "    [theme=dark] .colab-df-convert {\n",
              "      background-color: #3B4455;\n",
              "      fill: #D2E3FC;\n",
              "    }\n",
              "\n",
              "    [theme=dark] .colab-df-convert:hover {\n",
              "      background-color: #434B5C;\n",
              "      box-shadow: 0px 1px 3px 1px rgba(0, 0, 0, 0.15);\n",
              "      filter: drop-shadow(0px 1px 2px rgba(0, 0, 0, 0.3));\n",
              "      fill: #FFFFFF;\n",
              "    }\n",
              "  </style>\n",
              "\n",
              "      <script>\n",
              "        const buttonEl =\n",
              "          document.querySelector('#df-85df9857-56cf-46a2-b645-0faaac871f3c button.colab-df-convert');\n",
              "        buttonEl.style.display =\n",
              "          google.colab.kernel.accessAllowed ? 'block' : 'none';\n",
              "\n",
              "        async function convertToInteractive(key) {\n",
              "          const element = document.querySelector('#df-85df9857-56cf-46a2-b645-0faaac871f3c');\n",
              "          const dataTable =\n",
              "            await google.colab.kernel.invokeFunction('convertToInteractive',\n",
              "                                                     [key], {});\n",
              "          if (!dataTable) return;\n",
              "\n",
              "          const docLinkHtml = 'Like what you see? Visit the ' +\n",
              "            '<a target=\"_blank\" href=https://colab.research.google.com/notebooks/data_table.ipynb>data table notebook</a>'\n",
              "            + ' to learn more about interactive tables.';\n",
              "          element.innerHTML = '';\n",
              "          dataTable['output_type'] = 'display_data';\n",
              "          await google.colab.output.renderOutput(dataTable, element);\n",
              "          const docLink = document.createElement('div');\n",
              "          docLink.innerHTML = docLinkHtml;\n",
              "          element.appendChild(docLink);\n",
              "        }\n",
              "      </script>\n",
              "    </div>\n",
              "  </div>\n",
              "  "
            ],
            "text/plain": [
              "                                               title  \\\n",
              "0  A GUI for controlling and supervising multiple...   \n",
              "1           An Efficient System For Waste Collection   \n",
              "2  An automated system for monitoring and control...   \n",
              "3                      Automated Bike Sharing System   \n",
              "4  Automated Book Management System Automated Boo...   \n",
              "\n",
              "                                         description  \n",
              "0  The idea is to create a GUI platform where a u...  \n",
              "1  This Project aims to implement an Efficient Wa...  \n",
              "2  This is a system for automatically controlling...  \n",
              "3  This project is about building an automated bi...  \n",
              "4  In libraries, We have planned to implement a b...  "
            ]
          },
          "execution_count": null,
          "metadata": {},
          "output_type": "execute_result"
        }
      ],
      "source": [
        "#Create a data frame\n",
        "data = pd.DataFrame(data)\n",
        "data = data[[0,1]]\n",
        "data.columns = [\"title\",\"description\"]\n",
        "data.head()"
      ]
    },
    {
      "cell_type": "code",
      "execution_count": null,
      "metadata": {
        "colab": {
          "background_save": true
        },
        "id": "QF7KjhLjk5LQ"
      },
      "outputs": [],
      "source": [
        "#Function to check irrellevant words in the description\n",
        "words = ['a','is','the','an','by','and','in','to','as','there','so','do',\n",
        "         'of','can','be','project','if','are']  \n",
        "def checkIndex(str,words):\n",
        "    for i in range(len(words)):\n",
        "        if (words[i] == str):\n",
        "            return True\n",
        "            break\n",
        "    return False        "
      ]
    },
    {
      "cell_type": "code",
      "execution_count": null,
      "metadata": {
        "colab": {
          "background_save": true
        },
        "id": "UlgX48bhlFOF"
      },
      "outputs": [],
      "source": [
        "#Function to remove irrelevant words\n",
        "def removePrep(list):\n",
        "    rem = []\n",
        "    for i in range (len(list)):\n",
        "        if(checkIndex(list[i],words)):\n",
        "            rem.append(list[i])\n",
        "    for i in range (len(rem)):\n",
        "        list.remove(rem[i])  \n",
        "\n",
        "#Function to check the existance of the sample tags\n",
        "def checkTag(str):\n",
        "    tags = ['gui','urban','automatically','ml','embeded','image','processing',\n",
        "            'ai','artificial','automation','automated','electrical','robot','arduino','ir',\n",
        "            'sensor','dc','power','inteligent','monitor','agriculture','industry','analysys',\n",
        "            'data','base','iot','biology','bio','medical','dna','fire','eco','mobile','smart',\n",
        "            'remotely','computer','electronic','self','driving','real','time','efficient',\n",
        "            'relational','online','database','memory','pipeline','simulate','cpu','network',\n",
        "            'networkinfg','python','java','c','html','graphical','graphic','prediction']\n",
        "    for i in range(len(tags)):\n",
        "        if (tags[i] == str):\n",
        "            return True\n",
        "            break\n",
        "    return False          \n",
        "\n",
        "#Function to add tags\n",
        "def addTag(list):\n",
        "    tags = []\n",
        "    for i in range (len(list)):\n",
        "        if(checkTag(list[i])):\n",
        "            if not (checkIndex(list[i],tags)):\n",
        "                tags.append(list[i])\n",
        "    return tags"
      ]
    },
    {
      "cell_type": "code",
      "execution_count": null,
      "metadata": {
        "colab": {
          "background_save": true
        },
        "id": "-nQsMAfklkuc"
      },
      "outputs": [],
      "source": [
        "#Add tags\n",
        "tag_data = []\n",
        "\n",
        "for l in range (len(data)):\n",
        "    li = list(str(data.description[l]).lower().split(\" \"))\n",
        "    removePrep(li)\n",
        "    tag_data.append(addTag(li))\n",
        "    li.clear()"
      ]
    },
    {
      "cell_type": "code",
      "execution_count": null,
      "metadata": {
        "colab": {
          "background_save": true
        },
        "id": "bitmj9symASw"
      },
      "outputs": [],
      "source": [
        "#Add to the data frame\n",
        "data['tags'] = tag_data"
      ]
    },
    {
      "cell_type": "code",
      "execution_count": null,
      "metadata": {
        "colab": {
          "background_save": true,
          "base_uri": "https://localhost:8080/"
        },
        "id": "R2yGd7UhmEDp",
        "outputId": "a4c95848-2a81-42e0-bfab-61131b5f6bd3"
      },
      "outputs": [
        {
          "name": "stdout",
          "output_type": "stream",
          "text": [
            "[['gui', 'efficient'], ['efficient', 'urban'], ['automatically', 'electrical', 'automated'], ['automated'], ['robot', 'ir', 'dc', 'power'], ['time', 'sensor', 'automated'], ['automated', 'time', 'iot'], [], ['online', 'medical', 'time', 'efficient', 'data'], ['time'], ['fire'], [], ['artificial', 'agriculture'], ['urban'], [], ['monitor'], [], ['smart', 'data', 'automation'], ['automated'], ['automatically'], ['smart', 'monitor', 'data', 'urban'], ['time', 'sensor'], ['time', 'mobile', 'automated'], ['electronic', 'electrical', 'automated'], ['industry', 'monitor'], ['real', 'time'], ['medical'], [], ['network'], ['power'], [], ['real'], ['monitor', 'prediction'], [], ['smart'], ['monitor'], ['smart', 'power', 'iot', 'efficient', 'time', 'real', 'data'], ['robot'], ['monitor'], [], [], [], [], [], [], [], ['automated', 'mobile'], [], ['smart'], ['automated', 'mobile'], [], [], ['online'], [], ['online', 'medical'], ['smart', 'remotely'], ['smart'], ['smart'], [], ['time'], ['robot'], ['online'], [], ['online', 'mobile'], ['mobile'], [], ['online'], [], ['computer'], [], ['smart', 'sensor', 'data', 'database', 'ir'], ['smart'], ['smart', 'automatically', 'data', 'mobile'], ['efficient'], ['automated', 'online'], ['smart'], ['smart', 'mobile'], ['smart'], ['smart', 'mobile'], ['monitor', 'mobile'], [], ['pipeline'], ['image'], ['data'], [], [], [], ['efficient'], ['efficient', 'data'], ['data'], ['dna', 'data'], ['real', 'time', 'processing', 'base'], ['industry', 'real', 'time'], ['database', 'data', 'python'], [], [], ['data', 'prediction'], [], [], ['online', 'time'], ['computer', 'automated'], [], ['power'], [], [], [], [], ['pipeline'], ['graphical'], [], [], ['image', 'processing'], [], [], ['computer', 'data'], [], ['image', 'data'], ['time', 'automation', 'monitor', 'automatically', 'automated', 'sensor', 'data', 'database'], ['ml'], ['data', 'gui'], ['data', 'prediction'], [], ['data'], [], ['computer'], [], ['data'], ['graphical', 'data'], ['data'], [], [], [], [], [], [], [], [], [], [], [], ['automation'], ['image'], ['real'], [], [], ['automated'], [], [], [], ['python'], ['network'], [], ['computer'], [], ['pipeline', 'cpu'], ['cpu', 'memory'], [], ['relational', 'database', 'online']]\n"
          ]
        }
      ],
      "source": [
        "print(tag_data)"
      ]
    },
    {
      "cell_type": "code",
      "execution_count": 68,
      "metadata": {
        "id": "H-Q0e5Hinevr"
      },
      "outputs": [],
      "source": [
        "tags =  []  #Store all the tags\n",
        "for i in range (len(tag_data)):\n",
        "  for j in range (len(tag_data[i])):\n",
        "    tags.append(tag_data[i][j])\n",
        "\n",
        "#Get unique list of tags\n",
        "uniq_tags = np.unique(tags)"
      ]
    },
    {
      "cell_type": "code",
      "execution_count": 67,
      "metadata": {
        "colab": {
          "base_uri": "https://localhost:8080/"
        },
        "id": "Wv64i8cUYX97",
        "outputId": "4c3c5163-606e-4749-b990-0100ec1f4615"
      },
      "outputs": [
        {
          "output_type": "stream",
          "name": "stdout",
          "text": [
            "[('data', 21), ('smart', 15), ('time', 13), ('automated', 13), ('online', 9), ('mobile', 9), ('monitor', 8), ('efficient', 7), ('real', 6), ('computer', 5), ('sensor', 4), ('power', 4), ('image', 4), ('database', 4), ('automatically', 4), ('urban', 3), ('robot', 3), ('prediction', 3), ('pipeline', 3), ('medical', 3), ('automation', 3), ('python', 2), ('processing', 2), ('network', 2), ('ir', 2), ('iot', 2), ('industry', 2), ('gui', 2), ('graphical', 2), ('electrical', 2), ('cpu', 2), ('remotely', 1), ('relational', 1), ('ml', 1), ('memory', 1), ('fire', 1), ('electronic', 1), ('dna', 1), ('dc', 1), ('base', 1), ('artificial', 1), ('agriculture', 1)]\n"
          ]
        }
      ],
      "source": [
        "#Get the frequencies of the tags\n",
        "freq_dict = {}\n",
        "for i in range (len(uniq_tags)):\n",
        "  count = tags.count(uniq_tags[i])\n",
        "  freq_dict[uniq_tags[i]] = count\n",
        "\n",
        "#Sort according to the frequencies in reverse order\n",
        "freq_dict_srt = sorted(freq_dict.items(), key = lambda kv:(kv[1], kv[0]),reverse = True) \n",
        "  \n",
        "print(freq_dict_srt)"
      ]
    },
    {
      "cell_type": "code",
      "execution_count": 79,
      "metadata": {
        "id": "PfMsFAixgcWr"
      },
      "outputs": [],
      "source": [
        "# Convert tags in to a string\n",
        "text = (\" \").join(tags)\n",
        "# Create the word cloud according to the frequency of tags\n",
        "wordcloud = WordCloud(background_color=\"black\").generate_from_frequencies(freq_dict)"
      ]
    },
    {
      "cell_type": "code",
      "execution_count": 80,
      "metadata": {
        "colab": {
          "base_uri": "https://localhost:8080/",
          "height": 198
        },
        "id": "rqVEyIe3g_pD",
        "outputId": "e25357f6-0440-4c4f-d7ff-8c9f28f9fcca"
      },
      "outputs": [
        {
          "output_type": "display_data",
          "data": {
            "text/plain": [
              "<Figure size 432x288 with 1 Axes>"
            ],
            "image/png": "[encoded data removed]"
          },
          "metadata": {
            "needs_background": "light"
          }
        }
      ],
      "source": [
        "#Show the tag cloud\n",
        "plt.imshow(wordcloud, interpolation='bilinear')\n",
        "plt.axis(\"off\")\n",
        "\n",
        "# Save as image\n",
        "plt.savefig('Tag_Cloud.png')\n",
        "\n",
        "\n",
        "plt.show()"
      ]
    },
    {
      "cell_type": "code",
      "source": [
        ""
      ],
      "metadata": {
        "id": "296HeXwAKKxa",
        "outputId": "20044516-a73a-4a84-f1e6-3e7cbb4eaad8",
        "colab": {
          "base_uri": "https://localhost:8080/",
          "height": 34
        }
      },
      "execution_count": 73,
      "outputs": [
        {
          "output_type": "display_data",
          "data": {
            "text/plain": [
              "<Figure size 432x288 with 0 Axes>"
            ]
          },
          "metadata": {}
        }
      ]
    },
    {
      "cell_type": "code",
      "source": [
        ""
      ],
      "metadata": {
        "id": "Qh8UsWGRKjEA"
      },
      "execution_count": 73,
      "outputs": []
    }
  ],
  "metadata": {
    "colab": {
      "name": "Tag_cloud.ipynb",
      "provenance": []
    },
    "kernelspec": {
      "display_name": "Python 3",
      "name": "python3"
    },
    "language_info": {
      "name": "python"
    }
  },
  "nbformat": 4,
  "nbformat_minor": 0
}