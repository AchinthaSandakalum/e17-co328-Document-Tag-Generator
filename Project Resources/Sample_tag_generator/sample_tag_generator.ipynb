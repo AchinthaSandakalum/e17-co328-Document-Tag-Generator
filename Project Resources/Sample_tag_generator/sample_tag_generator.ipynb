{
 "cells": [
  {
   "cell_type": "markdown",
   "id": "0d8f27d9",
   "metadata": {},
   "source": [
    "## The purpose of this script is to generate sample tags to test and train the ML model"
   ]
  },
  {
   "cell_type": "code",
   "execution_count": 3,
   "id": "94a9a006",
   "metadata": {
    "scrolled": true
   },
   "outputs": [],
   "source": [
    "import requests\n",
    "import pandas as pd\n",
    "import csv\n",
    "\n",
    "url = \"https://api.ce.pdn.ac.lk/projects/v1/all\"\n",
    "response = requests.get(url)\n",
    "result = response.json()"
   ]
  },
  {
   "cell_type": "code",
   "execution_count": 5,
   "id": "ee8761f8",
   "metadata": {},
   "outputs": [],
   "source": [
    "#Get data from the projrct site\n",
    "data = []\n",
    "\n",
    "for category in result:\n",
    "    for batch in result[category][\"batches\"]:\n",
    "\n",
    "        for project in result[category][\"batches\"][batch][\"projects\"]:\n",
    "\n",
    "            details = []\n",
    "            for key, value in result[category][\"batches\"][batch][\"projects\"][project].items():\n",
    "                if key == \"github\" or key == \"cover_url\" or key == \"thumbnail_url\":\n",
    "                    continue\n",
    "                details.append(value)\n",
    "            data.append(details)"
   ]
  },
  {
   "cell_type": "code",
   "execution_count": 6,
   "id": "571b7e11",
   "metadata": {},
   "outputs": [
    {
     "data": {
      "text/html": [
       "<div>\n",
       "<style scoped>\n",
       "    .dataframe tbody tr th:only-of-type {\n",
       "        vertical-align: middle;\n",
       "    }\n",
       "\n",
       "    .dataframe tbody tr th {\n",
       "        vertical-align: top;\n",
       "    }\n",
       "\n",
       "    .dataframe thead th {\n",
       "        text-align: right;\n",
       "    }\n",
       "</style>\n",
       "<table border=\"1\" class=\"dataframe\">\n",
       "  <thead>\n",
       "    <tr style=\"text-align: right;\">\n",
       "      <th></th>\n",
       "      <th>title</th>\n",
       "      <th>description</th>\n",
       "    </tr>\n",
       "  </thead>\n",
       "  <tbody>\n",
       "    <tr>\n",
       "      <th>0</th>\n",
       "      <td>A GUI for controlling and supervising multiple...</td>\n",
       "      <td>The idea is to create a GUI platform where a u...</td>\n",
       "    </tr>\n",
       "    <tr>\n",
       "      <th>1</th>\n",
       "      <td>An Efficient System For Waste Collection</td>\n",
       "      <td>This Project aims to implement an Efficient Wa...</td>\n",
       "    </tr>\n",
       "    <tr>\n",
       "      <th>2</th>\n",
       "      <td>An automated system for monitoring and control...</td>\n",
       "      <td>This is a system for automatically controlling...</td>\n",
       "    </tr>\n",
       "    <tr>\n",
       "      <th>3</th>\n",
       "      <td>Automated Bike Sharing System</td>\n",
       "      <td>This project is about building an automated bi...</td>\n",
       "    </tr>\n",
       "    <tr>\n",
       "      <th>4</th>\n",
       "      <td>Automated Book Management System Automated Boo...</td>\n",
       "      <td>In libraries, We have planned to implement a b...</td>\n",
       "    </tr>\n",
       "  </tbody>\n",
       "</table>\n",
       "</div>"
      ],
      "text/plain": [
       "                                               title  \\\n",
       "0  A GUI for controlling and supervising multiple...   \n",
       "1           An Efficient System For Waste Collection   \n",
       "2  An automated system for monitoring and control...   \n",
       "3                      Automated Bike Sharing System   \n",
       "4  Automated Book Management System Automated Boo...   \n",
       "\n",
       "                                         description  \n",
       "0  The idea is to create a GUI platform where a u...  \n",
       "1  This Project aims to implement an Efficient Wa...  \n",
       "2  This is a system for automatically controlling...  \n",
       "3  This project is about building an automated bi...  \n",
       "4  In libraries, We have planned to implement a b...  "
      ]
     },
     "execution_count": 6,
     "metadata": {},
     "output_type": "execute_result"
    }
   ],
   "source": [
    "#Create a data frame\n",
    "data = pd.DataFrame(data)\n",
    "data = data[[0,1]]\n",
    "data.columns = [\"title\",\"description\"]\n",
    "data.head()"
   ]
  },
  {
   "cell_type": "code",
   "execution_count": 7,
   "id": "c2635927",
   "metadata": {},
   "outputs": [],
   "source": [
    "#Function to check irrellevant words in the description\n",
    "words = ['a','is','the','an','by','and','in','to','as','there','so','do',\n",
    "         'of','can','be','project','if','are']  \n",
    "def checkIndex(str,words):\n",
    "    for i in range(len(words)):\n",
    "        if (words[i] == str):\n",
    "            return True\n",
    "            break\n",
    "    return False        "
   ]
  },
  {
   "cell_type": "code",
   "execution_count": 8,
   "id": "491bfe08",
   "metadata": {},
   "outputs": [],
   "source": [
    "#Function to remove irrelevant words\n",
    "def removePrep(list):\n",
    "    rem = []\n",
    "    for i in range (len(list)):\n",
    "        if(checkIndex(list[i],words)):\n",
    "            rem.append(list[i])\n",
    "    for i in range (len(rem)):\n",
    "        list.remove(rem[i])  \n",
    "\n",
    "#Function to check the existance of the sample tags\n",
    "def checkTag(str):\n",
    "    tags = ['gui','urban','automatically','ml','embeded','image','processing',\n",
    "            'ai','artificial','automation','automated','electrical','robot','arduino','ir',\n",
    "            'sensor','dc','power','inteligent','monitor','agriculture','industry','analysys',\n",
    "            'data','base','iot','biology','bio','medical','dna','fire','eco','mobile','smart',\n",
    "            'remotely','computer','electronic','self','driving','real','time','efficient',\n",
    "            'relational','online','database','memory','pipeline','simulate','cpu','network',\n",
    "            'networkinfg','python','java','c','html','graphical','graphic','prediction']\n",
    "    for i in range(len(tags)):\n",
    "        if (tags[i] == str):\n",
    "            return True\n",
    "            break\n",
    "    return False          \n",
    "\n",
    "#Function to add tags\n",
    "def addTag(list):\n",
    "    tags = []\n",
    "    for i in range (len(list)):\n",
    "        if(checkTag(list[i])):\n",
    "            if not (checkIndex(list[i],tags)):\n",
    "                tags.append(list[i])\n",
    "    return tags"
   ]
  },
  {
   "cell_type": "code",
   "execution_count": 9,
   "id": "5f6858ff",
   "metadata": {},
   "outputs": [],
   "source": [
    "#Add tags\n",
    "tag_data = []\n",
    "\n",
    "for l in range (len(data)):\n",
    "    li = list(str(data.description[l]).lower().split(\" \"))\n",
    "    removePrep(li)\n",
    "    tag_data.append(addTag(li))\n",
    "    li.clear()"
   ]
  },
  {
   "cell_type": "code",
   "execution_count": 10,
   "id": "54ed4ffe",
   "metadata": {},
   "outputs": [],
   "source": [
    "#Add to the data frame\n",
    "data['tags'] = tag_data"
   ]
  },
  {
   "cell_type": "code",
   "execution_count": 11,
   "id": "5fd1a412",
   "metadata": {},
   "outputs": [
    {
     "data": {
      "text/html": [
       "<div>\n",
       "<style scoped>\n",
       "    .dataframe tbody tr th:only-of-type {\n",
       "        vertical-align: middle;\n",
       "    }\n",
       "\n",
       "    .dataframe tbody tr th {\n",
       "        vertical-align: top;\n",
       "    }\n",
       "\n",
       "    .dataframe thead th {\n",
       "        text-align: right;\n",
       "    }\n",
       "</style>\n",
       "<table border=\"1\" class=\"dataframe\">\n",
       "  <thead>\n",
       "    <tr style=\"text-align: right;\">\n",
       "      <th></th>\n",
       "      <th>title</th>\n",
       "      <th>description</th>\n",
       "      <th>tags</th>\n",
       "    </tr>\n",
       "  </thead>\n",
       "  <tbody>\n",
       "    <tr>\n",
       "      <th>0</th>\n",
       "      <td>A GUI for controlling and supervising multiple...</td>\n",
       "      <td>The idea is to create a GUI platform where a u...</td>\n",
       "      <td>[gui, efficient]</td>\n",
       "    </tr>\n",
       "    <tr>\n",
       "      <th>1</th>\n",
       "      <td>An Efficient System For Waste Collection</td>\n",
       "      <td>This Project aims to implement an Efficient Wa...</td>\n",
       "      <td>[efficient, urban]</td>\n",
       "    </tr>\n",
       "    <tr>\n",
       "      <th>2</th>\n",
       "      <td>An automated system for monitoring and control...</td>\n",
       "      <td>This is a system for automatically controlling...</td>\n",
       "      <td>[automatically, electrical, automated]</td>\n",
       "    </tr>\n",
       "    <tr>\n",
       "      <th>3</th>\n",
       "      <td>Automated Bike Sharing System</td>\n",
       "      <td>This project is about building an automated bi...</td>\n",
       "      <td>[automated]</td>\n",
       "    </tr>\n",
       "    <tr>\n",
       "      <th>4</th>\n",
       "      <td>Automated Book Management System Automated Boo...</td>\n",
       "      <td>In libraries, We have planned to implement a b...</td>\n",
       "      <td>[robot, ir, dc, power]</td>\n",
       "    </tr>\n",
       "  </tbody>\n",
       "</table>\n",
       "</div>"
      ],
      "text/plain": [
       "                                               title  \\\n",
       "0  A GUI for controlling and supervising multiple...   \n",
       "1           An Efficient System For Waste Collection   \n",
       "2  An automated system for monitoring and control...   \n",
       "3                      Automated Bike Sharing System   \n",
       "4  Automated Book Management System Automated Boo...   \n",
       "\n",
       "                                         description  \\\n",
       "0  The idea is to create a GUI platform where a u...   \n",
       "1  This Project aims to implement an Efficient Wa...   \n",
       "2  This is a system for automatically controlling...   \n",
       "3  This project is about building an automated bi...   \n",
       "4  In libraries, We have planned to implement a b...   \n",
       "\n",
       "                                     tags  \n",
       "0                        [gui, efficient]  \n",
       "1                      [efficient, urban]  \n",
       "2  [automatically, electrical, automated]  \n",
       "3                             [automated]  \n",
       "4                  [robot, ir, dc, power]  "
      ]
     },
     "execution_count": 11,
     "metadata": {},
     "output_type": "execute_result"
    }
   ],
   "source": [
    "data.head()"
   ]
  },
  {
   "cell_type": "code",
   "execution_count": 12,
   "id": "55ed135c",
   "metadata": {},
   "outputs": [],
   "source": [
    "#Write to a csv file\n",
    "data.to_csv(\"data/tag_generator_result.csv\",index=False)"
   ]
  },
  {
   "cell_type": "code",
   "execution_count": 13,
   "id": "30cea8c8",
   "metadata": {},
   "outputs": [],
   "source": [
    "df = pd.read_csv(\"data/tag_generator_result.csv\")"
   ]
  },
  {
   "cell_type": "code",
   "execution_count": 14,
   "id": "727824a3",
   "metadata": {},
   "outputs": [
    {
     "data": {
      "text/html": [
       "<div>\n",
       "<style scoped>\n",
       "    .dataframe tbody tr th:only-of-type {\n",
       "        vertical-align: middle;\n",
       "    }\n",
       "\n",
       "    .dataframe tbody tr th {\n",
       "        vertical-align: top;\n",
       "    }\n",
       "\n",
       "    .dataframe thead th {\n",
       "        text-align: right;\n",
       "    }\n",
       "</style>\n",
       "<table border=\"1\" class=\"dataframe\">\n",
       "  <thead>\n",
       "    <tr style=\"text-align: right;\">\n",
       "      <th></th>\n",
       "      <th>title</th>\n",
       "      <th>description</th>\n",
       "      <th>tags</th>\n",
       "    </tr>\n",
       "  </thead>\n",
       "  <tbody>\n",
       "    <tr>\n",
       "      <th>0</th>\n",
       "      <td>A GUI for controlling and supervising multiple...</td>\n",
       "      <td>The idea is to create a GUI platform where a u...</td>\n",
       "      <td>['gui', 'efficient']</td>\n",
       "    </tr>\n",
       "    <tr>\n",
       "      <th>1</th>\n",
       "      <td>An Efficient System For Waste Collection</td>\n",
       "      <td>This Project aims to implement an Efficient Wa...</td>\n",
       "      <td>['efficient', 'urban']</td>\n",
       "    </tr>\n",
       "    <tr>\n",
       "      <th>2</th>\n",
       "      <td>An automated system for monitoring and control...</td>\n",
       "      <td>This is a system for automatically controlling...</td>\n",
       "      <td>['automatically', 'electrical', 'automated']</td>\n",
       "    </tr>\n",
       "    <tr>\n",
       "      <th>3</th>\n",
       "      <td>Automated Bike Sharing System</td>\n",
       "      <td>This project is about building an automated bi...</td>\n",
       "      <td>['automated']</td>\n",
       "    </tr>\n",
       "    <tr>\n",
       "      <th>4</th>\n",
       "      <td>Automated Book Management System Automated Boo...</td>\n",
       "      <td>In libraries, We have planned to implement a b...</td>\n",
       "      <td>['robot', 'ir', 'dc', 'power']</td>\n",
       "    </tr>\n",
       "  </tbody>\n",
       "</table>\n",
       "</div>"
      ],
      "text/plain": [
       "                                               title  \\\n",
       "0  A GUI for controlling and supervising multiple...   \n",
       "1           An Efficient System For Waste Collection   \n",
       "2  An automated system for monitoring and control...   \n",
       "3                      Automated Bike Sharing System   \n",
       "4  Automated Book Management System Automated Boo...   \n",
       "\n",
       "                                         description  \\\n",
       "0  The idea is to create a GUI platform where a u...   \n",
       "1  This Project aims to implement an Efficient Wa...   \n",
       "2  This is a system for automatically controlling...   \n",
       "3  This project is about building an automated bi...   \n",
       "4  In libraries, We have planned to implement a b...   \n",
       "\n",
       "                                           tags  \n",
       "0                          ['gui', 'efficient']  \n",
       "1                        ['efficient', 'urban']  \n",
       "2  ['automatically', 'electrical', 'automated']  \n",
       "3                                 ['automated']  \n",
       "4                ['robot', 'ir', 'dc', 'power']  "
      ]
     },
     "execution_count": 14,
     "metadata": {},
     "output_type": "execute_result"
    }
   ],
   "source": [
    "df.head()"
   ]
  },
  {
   "cell_type": "code",
   "execution_count": null,
   "id": "d3f3b9b9",
   "metadata": {},
   "outputs": [],
   "source": []
  }
 ],
 "metadata": {
  "kernelspec": {
   "display_name": "Python 3 (ipykernel)",
   "language": "python",
   "name": "python3"
  },
  "language_info": {
   "codemirror_mode": {
    "name": "ipython",
    "version": 3
   },
   "file_extension": ".py",
   "mimetype": "text/x-python",
   "name": "python",
   "nbconvert_exporter": "python",
   "pygments_lexer": "ipython3",
   "version": "3.10.2"
  }
 },
 "nbformat": 4,
 "nbformat_minor": 5
}
